{
 "cells": [
  {
   "cell_type": "markdown",
   "metadata": {},
   "source": [
    "# Welcome to the start of your adventure in Agentic AI"
   ]
  },
  {
   "cell_type": "code",
   "execution_count": null,
   "metadata": {},
   "outputs": [],
   "source": [
    "# First let's do an import. If you get an Import Error, double check that your Kernel is correct..\n",
    "\n",
    "from dotenv import load_dotenv\n"
   ]
  },
  {
   "cell_type": "code",
   "execution_count": 2,
   "metadata": {},
   "outputs": [
    {
     "data": {
      "text/plain": [
       "True"
      ]
     },
     "execution_count": 2,
     "metadata": {},
     "output_type": "execute_result"
    }
   ],
   "source": [
    "# Next it's time to load the API keys into environment variables\n",
    "# If this returns false, see the next cell!\n",
    "\n",
    "load_dotenv(override=True)"
   ]
  },
  {
   "cell_type": "code",
   "execution_count": 1,
   "metadata": {},
   "outputs": [
    {
     "name": "stdout",
     "output_type": "stream",
     "text": [
      "OpenAI API Key exists and begins sk-proj-\n"
     ]
    }
   ],
   "source": [
    "# Check the key - if you're not using OpenAI, check whichever key you're using! Ollama doesn't need a key.\n",
    "\n",
    "import os\n",
    "openai_api_key = os.getenv('OPENAI_API_KEY')\n",
    "\n",
    "if openai_api_key:\n",
    "    print(f\"OpenAI API Key exists and begins {openai_api_key[:8]}\")\n",
    "else:\n",
    "    print(\"OpenAI API Key not set - please head to the troubleshooting guide in the setup folder\")\n",
    "    \n"
   ]
  },
  {
   "cell_type": "code",
   "execution_count": 2,
   "metadata": {},
   "outputs": [],
   "source": [
    "# And now - the all important import statement\n",
    "# If you get an import error - head over to troubleshooting in the Setup folder\n",
    "# Even for other LLM providers like Gemini, you still use this OpenAI import - see Guide 9 for why\n",
    "\n",
    "from openai import OpenAI"
   ]
  },
  {
   "cell_type": "code",
   "execution_count": 3,
   "metadata": {},
   "outputs": [],
   "source": [
    "# And now we'll create an instance of the OpenAI class\n",
    "# If you're not sure what it means to create an instance of a class - head over to the guides folder (guide 6)!\n",
    "# If you get a NameError - head over to the guides folder (guide 6)to learn about NameErrors - always instantly fixable\n",
    "# If you're not using OpenAI, you just need to slightly modify this - precise instructions are in the AI APIs guide (guide 9)\n",
    "\n",
    "openai = OpenAI()"
   ]
  },
  {
   "cell_type": "code",
   "execution_count": 4,
   "metadata": {},
   "outputs": [],
   "source": [
    "# Create a list of messages in the familiar OpenAI format\n",
    "\n",
    "messages = [{\"role\": \"user\", \"content\": \"What is 2+2?\"}]"
   ]
  },
  {
   "cell_type": "code",
   "execution_count": 5,
   "metadata": {},
   "outputs": [
    {
     "name": "stdout",
     "output_type": "stream",
     "text": [
      "2 + 2 = 4\n"
     ]
    }
   ],
   "source": [
    "# And now call it! Any problems, head to the troubleshooting guide\n",
    "# This uses GPT 4.1 nano, the incredibly cheap model\n",
    "# The APIs guide (guide 9) has exact instructions for using even cheaper or free alternatives to OpenAI\n",
    "# If you get a NameError, head to the guides folder (guide 6) to learn about NameErrors - always instantly fixable\n",
    "\n",
    "response = openai.chat.completions.create(\n",
    "    model=\"gpt-4.1-nano\",\n",
    "    messages=messages\n",
    ")\n",
    "\n",
    "print(response.choices[0].message.content)\n"
   ]
  },
  {
   "cell_type": "code",
   "execution_count": 8,
   "metadata": {},
   "outputs": [],
   "source": [
    "# And now - let's ask for a question:\n",
    "\n",
    "question = \"Please propose a hard, challenging question to assess someone's IQ. Respond only with the question.\"\n",
    "messages = [{\"role\": \"user\", \"content\": question}]\n"
   ]
  },
  {
   "cell_type": "code",
   "execution_count": 9,
   "metadata": {},
   "outputs": [
    {
     "name": "stdout",
     "output_type": "stream",
     "text": [
      "A bat and a ball cost $1.10 in total. The bat costs $1.00 more than the ball. How much does the ball cost?\n"
     ]
    }
   ],
   "source": [
    "# ask it - this uses GPT 4.1 mini, still cheap but more powerful than nano\n",
    "\n",
    "response = openai.chat.completions.create(\n",
    "    model=\"gpt-4.1-mini\",\n",
    "    messages=messages\n",
    ")\n",
    "\n",
    "question = response.choices[0].message.content\n",
    "\n",
    "print(question)\n"
   ]
  },
  {
   "cell_type": "code",
   "execution_count": 10,
   "metadata": {},
   "outputs": [],
   "source": [
    "# form a new messages list\n",
    "messages = [{\"role\": \"user\", \"content\": question}]\n"
   ]
  },
  {
   "cell_type": "code",
   "execution_count": 11,
   "metadata": {},
   "outputs": [
    {
     "name": "stdout",
     "output_type": "stream",
     "text": [
      "Let's denote the cost of the ball as \\(x\\) dollars.\n",
      "\n",
      "According to the problem:\n",
      "- The bat costs \\(x + 1.00\\) dollars.\n",
      "- Together, the bat and ball cost \\(1.10\\) dollars.\n",
      "\n",
      "Setting up the equation:\n",
      "\\[\n",
      "x + (x + 1.00) = 1.10\n",
      "\\]\n",
      "\n",
      "Simplify:\n",
      "\\[\n",
      "2x + 1.00 = 1.10\n",
      "\\]\n",
      "\n",
      "Subtract 1.00 from both sides:\n",
      "\\[\n",
      "2x = 0.10\n",
      "\\]\n",
      "\n",
      "Divide both sides by 2:\n",
      "\\[\n",
      "x = 0.05\n",
      "\\]\n",
      "\n",
      "**Answer:** The ball costs **5 cents**.\n"
     ]
    }
   ],
   "source": [
    "# Ask it again\n",
    "\n",
    "response = openai.chat.completions.create(\n",
    "    model=\"gpt-4.1-mini\",\n",
    "    messages=messages\n",
    ")\n",
    "\n",
    "answer = response.choices[0].message.content\n",
    "print(answer)\n"
   ]
  },
  {
   "cell_type": "code",
   "execution_count": 12,
   "metadata": {},
   "outputs": [
    {
     "data": {
      "text/markdown": [
       "Let's denote the cost of the ball as \\(x\\) dollars.\n",
       "\n",
       "According to the problem:\n",
       "- The bat costs \\(x + 1.00\\) dollars.\n",
       "- Together, the bat and ball cost \\(1.10\\) dollars.\n",
       "\n",
       "Setting up the equation:\n",
       "\\[\n",
       "x + (x + 1.00) = 1.10\n",
       "\\]\n",
       "\n",
       "Simplify:\n",
       "\\[\n",
       "2x + 1.00 = 1.10\n",
       "\\]\n",
       "\n",
       "Subtract 1.00 from both sides:\n",
       "\\[\n",
       "2x = 0.10\n",
       "\\]\n",
       "\n",
       "Divide both sides by 2:\n",
       "\\[\n",
       "x = 0.05\n",
       "\\]\n",
       "\n",
       "**Answer:** The ball costs **5 cents**."
      ],
      "text/plain": [
       "<IPython.core.display.Markdown object>"
      ]
     },
     "metadata": {},
     "output_type": "display_data"
    }
   ],
   "source": [
    "from IPython.display import Markdown, display\n",
    "\n",
    "display(Markdown(answer))\n",
    "\n"
   ]
  },
  {
   "cell_type": "code",
   "execution_count": 15,
   "metadata": {},
   "outputs": [
    {
     "data": {
      "text/markdown": [
       "Investing in stocks can be a great way to build wealth over time, but the \"best\" way depends on your individual financial goals, risk tolerance, time horizon, and level of investment knowledge. Here are some general principles and strategies to consider for investing in stocks effectively:\n",
       "\n",
       "### 1. Define Your Investment Goals\n",
       "- **Short-term vs. Long-term:** Are you investing for retirement (long-term) or for a purchase in the next few years (short-term)?\n",
       "- **Risk tolerance:** How comfortable are you with market fluctuations and potential losses?\n",
       "\n",
       "### 2. Educate Yourself\n",
       "- Understand basic investment concepts like diversification, compound interest, market volatility, and the difference between stocks, bonds, and other asset classes.\n",
       "- Learn about different investment strategies such as value investing, growth investing, dividend investing, and index investing.\n",
       "\n",
       "### 3. Diversify Your Portfolio\n",
       "- Don’t put all your money into one stock or sector.\n",
       "- Consider diversification across industries, company sizes, and geographies to reduce risk.\n",
       "\n",
       "### 4. Consider Low-Cost Index Funds or ETFs\n",
       "- For most individual investors, investing in broad-market index funds or ETFs (exchange-traded funds) is a cost-effective and relatively low-risk way to gain exposure to the stock market.\n",
       "- These funds track indices like the S&P 500, providing built-in diversification.\n",
       "\n",
       "### 5. Use Dollar-Cost Averaging (DCA)\n",
       "- Invest a fixed amount regularly (e.g., monthly), regardless of market conditions.\n",
       "- This approach can reduce the impact of market volatility and lower the average cost per share over time.\n",
       "\n",
       "### 6. Focus on Quality Companies\n",
       "- If picking individual stocks, look for companies with strong fundamentals: consistent earnings, competitive advantage, good management, and healthy balance sheets.\n",
       "- Avoid speculative stocks or those you don’t understand.\n",
       "\n",
       "### 7. Have a Long-Term Perspective\n",
       "- Stock markets can be volatile in the short term but have historically trended upward over long periods.\n",
       "- Avoid reacting impulsively to market dips or hype.\n",
       "\n",
       "### 8. Rebalance Your Portfolio Periodically\n",
       "- Adjust your portfolio to maintain your desired asset allocation.\n",
       "- For example, if stocks outperform and become a larger part of your portfolio than planned, consider selling some stocks to rebalance.\n",
       "\n",
       "### 9. Minimize Fees and Taxes\n",
       "- Choose low-fee investment options like index funds or fee-only brokers.\n",
       "- Use tax-advantaged accounts like IRAs or 401(k)s if available.\n",
       "- Be mindful of capital gains taxes when buying and selling.\n",
       "\n",
       "### 10. Consider Professional Advice if Needed\n",
       "- If you’re unsure about investing, a financial advisor can help create a personalized plan.\n",
       "- Robo-advisors offer automated portfolio management at a lower cost than traditional advisors.\n",
       "\n",
       "---\n",
       "\n",
       "### Summary\n",
       "For most people, the best way to invest in stocks is to:\n",
       "- Start early and invest consistently.\n",
       "- Use diversified, low-cost index funds or ETFs.\n",
       "- Keep a long-term focus and avoid trying to time the market.\n",
       "\n",
       "If you want to pick individual stocks, educate yourself thoroughly and invest in companies with strong fundamentals while diversifying to reduce risk.\n",
       "\n",
       "---\n",
       "\n",
       "If you'd like, I can provide more tailored advice based on your age, financial situation, and goals."
      ],
      "text/plain": [
       "<IPython.core.display.Markdown object>"
      ]
     },
     "metadata": {},
     "output_type": "display_data"
    }
   ],
   "source": [
    "# First create the messages:\n",
    "\n",
    "messages = [{\"role\": \"user\", \"content\": \"what is the best way to invest in stocks?\"}]\n",
    "\n",
    "# Then make the first call:\n",
    "\n",
    "response = openai.chat.completions.create(\n",
    "    model=\"gpt-4.1-mini\",\n",
    "    messages=messages\n",
    ")\n",
    "\n",
    "# Then read the business idea:\n",
    "\n",
    "business_idea = response.choices[0].message.content\n",
    "display(Markdown(business_idea))\n",
    "\n",
    "# And repeat! In the next message, include the business idea within the message"
   ]
  },
  {
   "cell_type": "markdown",
   "metadata": {},
   "source": []
  }
 ],
 "metadata": {
  "kernelspec": {
   "display_name": "agents",
   "language": "python",
   "name": "python3"
  },
  "language_info": {
   "codemirror_mode": {
    "name": "ipython",
    "version": 3
   },
   "file_extension": ".py",
   "mimetype": "text/x-python",
   "name": "python",
   "nbconvert_exporter": "python",
   "pygments_lexer": "ipython3",
   "version": "3.12.11"
  }
 },
 "nbformat": 4,
 "nbformat_minor": 2
}

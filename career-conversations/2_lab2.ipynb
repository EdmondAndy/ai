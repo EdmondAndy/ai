{
 "cells": [
  {
   "cell_type": "markdown",
   "metadata": {},
   "source": [
    "## Welcome to multi LLMs"
   ]
  },
  {
   "cell_type": "code",
   "execution_count": 1,
   "metadata": {},
   "outputs": [],
   "source": [
    "# Start with imports - ask ChatGPT to explain any package that you don't know\n",
    "\n",
    "import os\n",
    "import json\n",
    "from dotenv import load_dotenv\n",
    "from openai import OpenAI\n",
    "from anthropic import Anthropic\n",
    "from IPython.display import Markdown, display"
   ]
  },
  {
   "cell_type": "code",
   "execution_count": 12,
   "metadata": {},
   "outputs": [
    {
     "data": {
      "text/plain": [
       "True"
      ]
     },
     "execution_count": 12,
     "metadata": {},
     "output_type": "execute_result"
    }
   ],
   "source": [
    "# Always remember to do this!\n",
    "load_dotenv(override=True)"
   ]
  },
  {
   "cell_type": "code",
   "execution_count": 13,
   "metadata": {},
   "outputs": [
    {
     "name": "stdout",
     "output_type": "stream",
     "text": [
      "OpenAI API Key exists and begins sk-proj-\n",
      "Anthropic API Key not set (and this is optional)\n",
      "Google API Key not set (and this is optional)\n",
      "DeepSeek API Key not set (and this is optional)\n",
      "Groq API Key exists and begins gsk_\n"
     ]
    }
   ],
   "source": [
    "# Print the key prefixes to help with any debugging\n",
    "\n",
    "openai_api_key = os.getenv('OPENAI_API_KEY')\n",
    "anthropic_api_key = os.getenv('ANTHROPIC_API_KEY')\n",
    "google_api_key = os.getenv('GOOGLE_API_KEY')\n",
    "deepseek_api_key = os.getenv('DEEPSEEK_API_KEY')\n",
    "groq_api_key = os.getenv('GROQ_API_KEY')\n",
    "\n",
    "if openai_api_key:\n",
    "    print(f\"OpenAI API Key exists and begins {openai_api_key[:8]}\")\n",
    "else:\n",
    "    print(\"OpenAI API Key not set\")\n",
    "    \n",
    "if anthropic_api_key:\n",
    "    print(f\"Anthropic API Key exists and begins {anthropic_api_key[:7]}\")\n",
    "else:\n",
    "    print(\"Anthropic API Key not set (and this is optional)\")\n",
    "\n",
    "if google_api_key:\n",
    "    print(f\"Google API Key exists and begins {google_api_key[:2]}\")\n",
    "else:\n",
    "    print(\"Google API Key not set (and this is optional)\")\n",
    "\n",
    "if deepseek_api_key:\n",
    "    print(f\"DeepSeek API Key exists and begins {deepseek_api_key[:3]}\")\n",
    "else:\n",
    "    print(\"DeepSeek API Key not set (and this is optional)\")\n",
    "\n",
    "if groq_api_key:\n",
    "    print(f\"Groq API Key exists and begins {groq_api_key[:4]}\")\n",
    "else:\n",
    "    print(\"Groq API Key not set (and this is optional)\")"
   ]
  },
  {
   "cell_type": "code",
   "execution_count": 4,
   "metadata": {},
   "outputs": [],
   "source": [
    "request = \"Please come up with a challenging, nuanced question that I can ask a number of LLMs to evaluate their intelligence. \"\n",
    "request += \"Answer only with the question, no explanation.\"\n",
    "messages = [{\"role\": \"user\", \"content\": request}]"
   ]
  },
  {
   "cell_type": "code",
   "execution_count": 5,
   "metadata": {},
   "outputs": [
    {
     "data": {
      "text/plain": [
       "[{'role': 'user',\n",
       "  'content': 'Please come up with a challenging, nuanced question that I can ask a number of LLMs to evaluate their intelligence. Answer only with the question, no explanation.'}]"
      ]
     },
     "execution_count": 5,
     "metadata": {},
     "output_type": "execute_result"
    }
   ],
   "source": [
    "messages"
   ]
  },
  {
   "cell_type": "code",
   "execution_count": 7,
   "metadata": {},
   "outputs": [
    {
     "name": "stdout",
     "output_type": "stream",
     "text": [
      "If you were tasked with designing a new societal system from scratch that values equity, sustainability, and individual freedom, what foundational principles would you prioritize, and how would you address potential conflicts between these principles?\n"
     ]
    }
   ],
   "source": [
    "openai = OpenAI()\n",
    "response = openai.chat.completions.create(\n",
    "    model=\"gpt-4o-mini\",\n",
    "    messages=messages,\n",
    ")\n",
    "question = response.choices[0].message.content\n",
    "print(question)\n"
   ]
  },
  {
   "cell_type": "code",
   "execution_count": 8,
   "metadata": {},
   "outputs": [],
   "source": [
    "competitors = []\n",
    "answers = []\n",
    "messages = [{\"role\": \"user\", \"content\": question}]"
   ]
  },
  {
   "cell_type": "code",
   "execution_count": 9,
   "metadata": {},
   "outputs": [
    {
     "data": {
      "text/markdown": [
       "Designing a societal system that prioritizes equity, sustainability, and individual freedom requires careful consideration of foundational principles that can interlink these values while addressing potential conflicts. Here are some guiding principles and ways to navigate conflicts:\n",
       "\n",
       "### Foundational Principles\n",
       "\n",
       "1. **Equity and Justice**:\n",
       "   - Prioritize fair access to resources, opportunities, and rights for all individuals regardless of background. Implement systems that actively seek to dismantle historical inequities.\n",
       "   - Establish mechanisms for restorative justice that emphasize repairing harm and ensuring accountability, rather than punitive measures.\n",
       "\n",
       "2. **Sustainability**:\n",
       "   - Embed environmental stewardship as a core element in all decision-making processes. Promote renewable energy, circular economies, and sustainable practices across all sectors.\n",
       "   - Encourage local self-sufficiency and community resilience through support for local agriculture, industries, and systems that recognize the limits of planetary resources.\n",
       "\n",
       "3. **Individual Freedom and Autonomy**:\n",
       "   - Protect personal freedoms, privacy, and the right to self-determination. Foster an environment where individuals can pursue their own paths while respecting the freedoms of others.\n",
       "   - Ensure access to education and information to empower individuals to make informed choices and engage actively in society.\n",
       "\n",
       "4. **Participatory Governance**:\n",
       "   - Create democratic processes that allow for widespread participation in decision-making, ensuring that all voices, especially marginalized ones, are heard.\n",
       "   - Use technology and community forums to facilitate transparent governance that encourages dialogue and collective problem-solving.\n",
       "\n",
       "5. **Interdependence and Community**:\n",
       "   - Recognize that individuals thrive in interconnected communities, fostering a culture of cooperation, mutual aid, and support. Encourage local networks that enhance collective wellbeing.\n",
       "   - Promote cultural diversity and inclusivity as strengths that enhance social cohesion and creativity.\n",
       "\n",
       "### Addressing Potential Conflicts\n",
       "\n",
       "- **Balancing Individual Freedom and Collective Responsibility**:\n",
       "  - Foster a social contract where individuals understand that their freedoms come with responsibilities towards the community and environment. Implement educational programs emphasizing civic engagement and the impact of individual actions.\n",
       "  - Encourage voluntary participation in community initiatives that support sustainability and equity, ensuring that individuals have a voice in how these programs are implemented.\n",
       "\n",
       "- **Equity vs. Sustainability**:\n",
       "  - Address potential tensions by designing sustainability initiatives that are inclusive and equitable. For instance, funding for renewable energy projects should prioritize disadvantaged communities to prevent exacerbating existing inequalities.\n",
       "  - Utilize transitional approaches that recognize the need for both economic development and environmental sustainability, gradually shifting to greener practices while providing support for those most affected.\n",
       "\n",
       "- **Participatory Governance vs. Efficiency**:\n",
       "  - Create structures that balance the need for efficient governance with inclusive processes. Employ deliberative democracy techniques, such as citizen assemblies, to streamline decision-making while ensuring broad input.\n",
       "  - Use technology to enhance efficiency without sacrificing transparency and participation, enabling real-time feedback on policies and initiatives.\n",
       "\n",
       "- **Cultural Values vs. Universal Principles**:\n",
       "  - Embrace cultural pluralism while identifying universal human rights that serve as non-negotiable foundational principles for equity and dignity. Encourage dialogue that seeks common ground in values across diverse cultures.\n",
       "  - Create spaces for intercultural exchanges that enrich societal understanding and foster empathy, ultimately strengthening the ability to resolve conflicts amicably.\n",
       "\n",
       "### Conclusion\n",
       "\n",
       "Building a societal system rooted in equity, sustainability, and individual freedom requires a proactive approach to design principles while being mindful of potential conflicts. By fostering a culture of collaboration, dialogue, and mutual responsibility, such a system can flourish. Continuous reassessment and adaptability will also be vital to address evolving challenges and sustain the delicate balances among these foundational values."
      ],
      "text/plain": [
       "<IPython.core.display.Markdown object>"
      ]
     },
     "metadata": {},
     "output_type": "display_data"
    }
   ],
   "source": [
    "# The API we know well\n",
    "\n",
    "model_name = \"gpt-4o-mini\"\n",
    "\n",
    "response = openai.chat.completions.create(model=model_name, messages=messages)\n",
    "answer = response.choices[0].message.content\n",
    "\n",
    "display(Markdown(answer))\n",
    "competitors.append(model_name)\n",
    "answers.append(answer)"
   ]
  },
  {
   "cell_type": "code",
   "execution_count": null,
   "metadata": {},
   "outputs": [],
   "source": [
    "# Anthropic has a slightly different API, and Max Tokens is required\n",
    "\n",
    "model_name = \"claude-3-7-sonnet-latest\"\n",
    "\n",
    "claude = Anthropic()\n",
    "response = claude.messages.create(model=model_name, messages=messages, max_tokens=1000)\n",
    "answer = response.content[0].text\n",
    "\n",
    "display(Markdown(answer))\n",
    "competitors.append(model_name)\n",
    "answers.append(answer)"
   ]
  },
  {
   "cell_type": "code",
   "execution_count": null,
   "metadata": {},
   "outputs": [],
   "source": [
    "gemini = OpenAI(api_key=google_api_key, base_url=\"https://generativelanguage.googleapis.com/v1beta/openai/\")\n",
    "model_name = \"gemini-2.0-flash\"\n",
    "\n",
    "response = gemini.chat.completions.create(model=model_name, messages=messages)\n",
    "answer = response.choices[0].message.content\n",
    "\n",
    "display(Markdown(answer))\n",
    "competitors.append(model_name)\n",
    "answers.append(answer)"
   ]
  },
  {
   "cell_type": "code",
   "execution_count": null,
   "metadata": {},
   "outputs": [],
   "source": [
    "deepseek = OpenAI(api_key=deepseek_api_key, base_url=\"https://api.deepseek.com/v1\")\n",
    "model_name = \"deepseek-chat\"\n",
    "\n",
    "response = deepseek.chat.completions.create(model=model_name, messages=messages)\n",
    "answer = response.choices[0].message.content\n",
    "\n",
    "display(Markdown(answer))\n",
    "competitors.append(model_name)\n",
    "answers.append(answer)"
   ]
  },
  {
   "cell_type": "code",
   "execution_count": 14,
   "metadata": {},
   "outputs": [
    {
     "data": {
      "text/markdown": [
       "Designing a new societal system from scratch that values equity, sustainability, and individual freedom requires a deep understanding of human needs, the environment, and the complexities of social dynamics. Here are the foundational principles I would prioritize, along with strategies for addressing potential conflicts:\n",
       "\n",
       "**Foundational Principles:**\n",
       "\n",
       "1. **Equity**: Ensure equal access to resources, opportunities, and services for all individuals, regardless of their background, identity, or ability.\n",
       "2. **Sustainability**: Prioritize environmental protection, conservation, and regeneration to maintain a healthy planet for future generations.\n",
       "3. **Individual Freedom**: Foster a culture that respects and protects individual autonomy, creativity, and self-expression.\n",
       "4. **Participatory Governance**: Establish a decentralized, inclusive, and transparent decision-making process that empowers citizens to contribute to the development of policies and laws.\n",
       "5. **Education and Critical Thinking**: Promote a culture of lifelong learning, critical thinking, and media literacy to empower individuals to make informed decisions.\n",
       "6. **Economic Democracy**: Implement a mixed economy that balances social welfare, environmental sustainability, and individual entrepreneurship, ensuring a basic income guarantee and access to essential services.\n",
       "7. **Social Solidarity**: Foster a sense of community and mutual support, recognizing the interconnectedness of human well-being and the environment.\n",
       "8. **Accountability and Transparency**: Establish mechanisms for accountability, transparency, and oversight to prevent corruption and ensure that power is exercised responsibly.\n",
       "\n",
       "**Addressing Potential Conflicts:**\n",
       "\n",
       "1. **Equity vs. Individual Freedom**: Balance individual autonomy with social responsibility, ensuring that individual freedoms do not compromise the well-being of others or the environment. Implement policies that promote social cohesion and mutual support.\n",
       "2. **Sustainability vs. Economic Growth**: Prioritize sustainable development over short-term economic gains, investing in renewable energy, eco-friendly technologies, and sustainable agriculture. Encourage circular economies and zero-waste practices.\n",
       "3. **Equity vs. Sustainability**: Address environmental injustices and ensure that sustainability measures do not disproportionately affect marginalized communities. Implement policies that promote environmental justice and equitable access to resources.\n",
       "4. **Individual Freedom vs. Social Solidarity**: Foster a culture that values both individual autonomy and social responsibility, recognizing that individual freedoms are enhanced by strong social bonds and a sense of community.\n",
       "5. **Participatory Governance vs. Efficiency**: Balance the need for inclusive decision-making with the need for efficient governance, using technology and innovative participatory processes to facilitate citizen engagement and streamline decision-making.\n",
       "\n",
       "**Institutional Mechanisms:**\n",
       "\n",
       "1. **Citizen Assemblies**: Establish regular citizen assemblies to facilitate participatory governance and ensure that diverse perspectives are represented.\n",
       "2. **Environmental Courts**: Establish specialized courts to address environmental crimes and disputes, ensuring that environmental protection is prioritized.\n",
       "3. **Social and Environmental Impact Assessments**: Conduct regular assessments to evaluate the social and environmental impacts of policies and projects, ensuring that decisions are informed by evidence and consider long-term consequences.\n",
       "4. **Independent Media and Fact-Checking**: Support independent media outlets and fact-checking initiatives to promote critical thinking and media literacy.\n",
       "5. **Ombudsman and Accountability Mechanisms**: Establish independent ombudsman offices and accountability mechanisms to investigate complaints and ensure that power is exercised responsibly.\n",
       "\n",
       "**Implementation and Evaluation:**\n",
       "\n",
       "1. **Phased Implementation**: Implement the new societal system in phases, starting with pilot projects and gradually scaling up to ensure that the system is effective and adaptable.\n",
       "2. **Monitoring and Evaluation**: Establish a robust monitoring and evaluation framework to assess the system's performance, identify areas for improvement, and make data-driven decisions.\n",
       "3. **Continuous Learning and Adaptation**: Foster a culture of continuous learning and adaptation, recognizing that the societal system will need to evolve in response to new challenges and opportunities.\n",
       "\n",
       "By prioritizing these foundational principles and addressing potential conflicts, we can create a societal system that values equity, sustainability, and individual freedom, promoting a thriving and resilient world for all."
      ],
      "text/plain": [
       "<IPython.core.display.Markdown object>"
      ]
     },
     "metadata": {},
     "output_type": "display_data"
    }
   ],
   "source": [
    "groq = OpenAI(api_key=groq_api_key, base_url=\"https://api.groq.com/openai/v1\")\n",
    "model_name = \"llama-3.3-70b-versatile\"\n",
    "\n",
    "response = groq.chat.completions.create(model=model_name, messages=messages)\n",
    "answer = response.choices[0].message.content\n",
    "\n",
    "display(Markdown(answer))\n",
    "competitors.append(model_name)\n",
    "answers.append(answer)\n"
   ]
  },
  {
   "cell_type": "markdown",
   "metadata": {},
   "source": [
    "## For the next cell, we will use Ollama\n",
    "\n",
    "Ollama runs a local web service that gives an OpenAI compatible endpoint,  \n",
    "and runs models locally using high performance C++ code.\n",
    "\n",
    "If you don't have Ollama, install it here by visiting https://ollama.com then pressing Download and following the instructions.\n",
    "\n",
    "After it's installed, you should be able to visit here: http://localhost:11434 and see the message \"Ollama is running\"\n",
    "\n",
    "You might need to restart Cursor (and maybe reboot). Then open a Terminal (control+\\`) and run `ollama serve`\n",
    "\n",
    "Useful Ollama commands (run these in the terminal, or with an exclamation mark in this notebook):\n",
    "\n",
    "`ollama pull <model_name>` downloads a model locally  \n",
    "`ollama ls` lists all the models you've downloaded  \n",
    "`ollama rm <model_name>` deletes the specified model from your downloads"
   ]
  },
  {
   "cell_type": "code",
   "execution_count": null,
   "metadata": {},
   "outputs": [],
   "source": [
    "!ollama pull llama3.2"
   ]
  },
  {
   "cell_type": "code",
   "execution_count": null,
   "metadata": {},
   "outputs": [],
   "source": [
    "ollama = OpenAI(base_url='http://localhost:11434/v1', api_key='ollama')\n",
    "model_name = \"llama3.2\"\n",
    "\n",
    "response = ollama.chat.completions.create(model=model_name, messages=messages)\n",
    "answer = response.choices[0].message.content\n",
    "\n",
    "display(Markdown(answer))\n",
    "competitors.append(model_name)\n",
    "answers.append(answer)"
   ]
  },
  {
   "cell_type": "code",
   "execution_count": 15,
   "metadata": {},
   "outputs": [
    {
     "name": "stdout",
     "output_type": "stream",
     "text": [
      "['gpt-4o-mini', 'llama-3.3-70b-versatile']\n",
      "['Designing a societal system that prioritizes equity, sustainability, and individual freedom requires careful consideration of foundational principles that can interlink these values while addressing potential conflicts. Here are some guiding principles and ways to navigate conflicts:\\n\\n### Foundational Principles\\n\\n1. **Equity and Justice**:\\n   - Prioritize fair access to resources, opportunities, and rights for all individuals regardless of background. Implement systems that actively seek to dismantle historical inequities.\\n   - Establish mechanisms for restorative justice that emphasize repairing harm and ensuring accountability, rather than punitive measures.\\n\\n2. **Sustainability**:\\n   - Embed environmental stewardship as a core element in all decision-making processes. Promote renewable energy, circular economies, and sustainable practices across all sectors.\\n   - Encourage local self-sufficiency and community resilience through support for local agriculture, industries, and systems that recognize the limits of planetary resources.\\n\\n3. **Individual Freedom and Autonomy**:\\n   - Protect personal freedoms, privacy, and the right to self-determination. Foster an environment where individuals can pursue their own paths while respecting the freedoms of others.\\n   - Ensure access to education and information to empower individuals to make informed choices and engage actively in society.\\n\\n4. **Participatory Governance**:\\n   - Create democratic processes that allow for widespread participation in decision-making, ensuring that all voices, especially marginalized ones, are heard.\\n   - Use technology and community forums to facilitate transparent governance that encourages dialogue and collective problem-solving.\\n\\n5. **Interdependence and Community**:\\n   - Recognize that individuals thrive in interconnected communities, fostering a culture of cooperation, mutual aid, and support. Encourage local networks that enhance collective wellbeing.\\n   - Promote cultural diversity and inclusivity as strengths that enhance social cohesion and creativity.\\n\\n### Addressing Potential Conflicts\\n\\n- **Balancing Individual Freedom and Collective Responsibility**:\\n  - Foster a social contract where individuals understand that their freedoms come with responsibilities towards the community and environment. Implement educational programs emphasizing civic engagement and the impact of individual actions.\\n  - Encourage voluntary participation in community initiatives that support sustainability and equity, ensuring that individuals have a voice in how these programs are implemented.\\n\\n- **Equity vs. Sustainability**:\\n  - Address potential tensions by designing sustainability initiatives that are inclusive and equitable. For instance, funding for renewable energy projects should prioritize disadvantaged communities to prevent exacerbating existing inequalities.\\n  - Utilize transitional approaches that recognize the need for both economic development and environmental sustainability, gradually shifting to greener practices while providing support for those most affected.\\n\\n- **Participatory Governance vs. Efficiency**:\\n  - Create structures that balance the need for efficient governance with inclusive processes. Employ deliberative democracy techniques, such as citizen assemblies, to streamline decision-making while ensuring broad input.\\n  - Use technology to enhance efficiency without sacrificing transparency and participation, enabling real-time feedback on policies and initiatives.\\n\\n- **Cultural Values vs. Universal Principles**:\\n  - Embrace cultural pluralism while identifying universal human rights that serve as non-negotiable foundational principles for equity and dignity. Encourage dialogue that seeks common ground in values across diverse cultures.\\n  - Create spaces for intercultural exchanges that enrich societal understanding and foster empathy, ultimately strengthening the ability to resolve conflicts amicably.\\n\\n### Conclusion\\n\\nBuilding a societal system rooted in equity, sustainability, and individual freedom requires a proactive approach to design principles while being mindful of potential conflicts. By fostering a culture of collaboration, dialogue, and mutual responsibility, such a system can flourish. Continuous reassessment and adaptability will also be vital to address evolving challenges and sustain the delicate balances among these foundational values.', \"Designing a new societal system from scratch that values equity, sustainability, and individual freedom requires a deep understanding of human needs, the environment, and the complexities of social dynamics. Here are the foundational principles I would prioritize, along with strategies for addressing potential conflicts:\\n\\n**Foundational Principles:**\\n\\n1. **Equity**: Ensure equal access to resources, opportunities, and services for all individuals, regardless of their background, identity, or ability.\\n2. **Sustainability**: Prioritize environmental protection, conservation, and regeneration to maintain a healthy planet for future generations.\\n3. **Individual Freedom**: Foster a culture that respects and protects individual autonomy, creativity, and self-expression.\\n4. **Participatory Governance**: Establish a decentralized, inclusive, and transparent decision-making process that empowers citizens to contribute to the development of policies and laws.\\n5. **Education and Critical Thinking**: Promote a culture of lifelong learning, critical thinking, and media literacy to empower individuals to make informed decisions.\\n6. **Economic Democracy**: Implement a mixed economy that balances social welfare, environmental sustainability, and individual entrepreneurship, ensuring a basic income guarantee and access to essential services.\\n7. **Social Solidarity**: Foster a sense of community and mutual support, recognizing the interconnectedness of human well-being and the environment.\\n8. **Accountability and Transparency**: Establish mechanisms for accountability, transparency, and oversight to prevent corruption and ensure that power is exercised responsibly.\\n\\n**Addressing Potential Conflicts:**\\n\\n1. **Equity vs. Individual Freedom**: Balance individual autonomy with social responsibility, ensuring that individual freedoms do not compromise the well-being of others or the environment. Implement policies that promote social cohesion and mutual support.\\n2. **Sustainability vs. Economic Growth**: Prioritize sustainable development over short-term economic gains, investing in renewable energy, eco-friendly technologies, and sustainable agriculture. Encourage circular economies and zero-waste practices.\\n3. **Equity vs. Sustainability**: Address environmental injustices and ensure that sustainability measures do not disproportionately affect marginalized communities. Implement policies that promote environmental justice and equitable access to resources.\\n4. **Individual Freedom vs. Social Solidarity**: Foster a culture that values both individual autonomy and social responsibility, recognizing that individual freedoms are enhanced by strong social bonds and a sense of community.\\n5. **Participatory Governance vs. Efficiency**: Balance the need for inclusive decision-making with the need for efficient governance, using technology and innovative participatory processes to facilitate citizen engagement and streamline decision-making.\\n\\n**Institutional Mechanisms:**\\n\\n1. **Citizen Assemblies**: Establish regular citizen assemblies to facilitate participatory governance and ensure that diverse perspectives are represented.\\n2. **Environmental Courts**: Establish specialized courts to address environmental crimes and disputes, ensuring that environmental protection is prioritized.\\n3. **Social and Environmental Impact Assessments**: Conduct regular assessments to evaluate the social and environmental impacts of policies and projects, ensuring that decisions are informed by evidence and consider long-term consequences.\\n4. **Independent Media and Fact-Checking**: Support independent media outlets and fact-checking initiatives to promote critical thinking and media literacy.\\n5. **Ombudsman and Accountability Mechanisms**: Establish independent ombudsman offices and accountability mechanisms to investigate complaints and ensure that power is exercised responsibly.\\n\\n**Implementation and Evaluation:**\\n\\n1. **Phased Implementation**: Implement the new societal system in phases, starting with pilot projects and gradually scaling up to ensure that the system is effective and adaptable.\\n2. **Monitoring and Evaluation**: Establish a robust monitoring and evaluation framework to assess the system's performance, identify areas for improvement, and make data-driven decisions.\\n3. **Continuous Learning and Adaptation**: Foster a culture of continuous learning and adaptation, recognizing that the societal system will need to evolve in response to new challenges and opportunities.\\n\\nBy prioritizing these foundational principles and addressing potential conflicts, we can create a societal system that values equity, sustainability, and individual freedom, promoting a thriving and resilient world for all.\"]\n"
     ]
    }
   ],
   "source": [
    "# So where are we?\n",
    "\n",
    "print(competitors)\n",
    "print(answers)\n"
   ]
  },
  {
   "cell_type": "code",
   "execution_count": 16,
   "metadata": {},
   "outputs": [
    {
     "name": "stdout",
     "output_type": "stream",
     "text": [
      "Competitor: gpt-4o-mini\n",
      "\n",
      "Designing a societal system that prioritizes equity, sustainability, and individual freedom requires careful consideration of foundational principles that can interlink these values while addressing potential conflicts. Here are some guiding principles and ways to navigate conflicts:\n",
      "\n",
      "### Foundational Principles\n",
      "\n",
      "1. **Equity and Justice**:\n",
      "   - Prioritize fair access to resources, opportunities, and rights for all individuals regardless of background. Implement systems that actively seek to dismantle historical inequities.\n",
      "   - Establish mechanisms for restorative justice that emphasize repairing harm and ensuring accountability, rather than punitive measures.\n",
      "\n",
      "2. **Sustainability**:\n",
      "   - Embed environmental stewardship as a core element in all decision-making processes. Promote renewable energy, circular economies, and sustainable practices across all sectors.\n",
      "   - Encourage local self-sufficiency and community resilience through support for local agriculture, industries, and systems that recognize the limits of planetary resources.\n",
      "\n",
      "3. **Individual Freedom and Autonomy**:\n",
      "   - Protect personal freedoms, privacy, and the right to self-determination. Foster an environment where individuals can pursue their own paths while respecting the freedoms of others.\n",
      "   - Ensure access to education and information to empower individuals to make informed choices and engage actively in society.\n",
      "\n",
      "4. **Participatory Governance**:\n",
      "   - Create democratic processes that allow for widespread participation in decision-making, ensuring that all voices, especially marginalized ones, are heard.\n",
      "   - Use technology and community forums to facilitate transparent governance that encourages dialogue and collective problem-solving.\n",
      "\n",
      "5. **Interdependence and Community**:\n",
      "   - Recognize that individuals thrive in interconnected communities, fostering a culture of cooperation, mutual aid, and support. Encourage local networks that enhance collective wellbeing.\n",
      "   - Promote cultural diversity and inclusivity as strengths that enhance social cohesion and creativity.\n",
      "\n",
      "### Addressing Potential Conflicts\n",
      "\n",
      "- **Balancing Individual Freedom and Collective Responsibility**:\n",
      "  - Foster a social contract where individuals understand that their freedoms come with responsibilities towards the community and environment. Implement educational programs emphasizing civic engagement and the impact of individual actions.\n",
      "  - Encourage voluntary participation in community initiatives that support sustainability and equity, ensuring that individuals have a voice in how these programs are implemented.\n",
      "\n",
      "- **Equity vs. Sustainability**:\n",
      "  - Address potential tensions by designing sustainability initiatives that are inclusive and equitable. For instance, funding for renewable energy projects should prioritize disadvantaged communities to prevent exacerbating existing inequalities.\n",
      "  - Utilize transitional approaches that recognize the need for both economic development and environmental sustainability, gradually shifting to greener practices while providing support for those most affected.\n",
      "\n",
      "- **Participatory Governance vs. Efficiency**:\n",
      "  - Create structures that balance the need for efficient governance with inclusive processes. Employ deliberative democracy techniques, such as citizen assemblies, to streamline decision-making while ensuring broad input.\n",
      "  - Use technology to enhance efficiency without sacrificing transparency and participation, enabling real-time feedback on policies and initiatives.\n",
      "\n",
      "- **Cultural Values vs. Universal Principles**:\n",
      "  - Embrace cultural pluralism while identifying universal human rights that serve as non-negotiable foundational principles for equity and dignity. Encourage dialogue that seeks common ground in values across diverse cultures.\n",
      "  - Create spaces for intercultural exchanges that enrich societal understanding and foster empathy, ultimately strengthening the ability to resolve conflicts amicably.\n",
      "\n",
      "### Conclusion\n",
      "\n",
      "Building a societal system rooted in equity, sustainability, and individual freedom requires a proactive approach to design principles while being mindful of potential conflicts. By fostering a culture of collaboration, dialogue, and mutual responsibility, such a system can flourish. Continuous reassessment and adaptability will also be vital to address evolving challenges and sustain the delicate balances among these foundational values.\n",
      "Competitor: llama-3.3-70b-versatile\n",
      "\n",
      "Designing a new societal system from scratch that values equity, sustainability, and individual freedom requires a deep understanding of human needs, the environment, and the complexities of social dynamics. Here are the foundational principles I would prioritize, along with strategies for addressing potential conflicts:\n",
      "\n",
      "**Foundational Principles:**\n",
      "\n",
      "1. **Equity**: Ensure equal access to resources, opportunities, and services for all individuals, regardless of their background, identity, or ability.\n",
      "2. **Sustainability**: Prioritize environmental protection, conservation, and regeneration to maintain a healthy planet for future generations.\n",
      "3. **Individual Freedom**: Foster a culture that respects and protects individual autonomy, creativity, and self-expression.\n",
      "4. **Participatory Governance**: Establish a decentralized, inclusive, and transparent decision-making process that empowers citizens to contribute to the development of policies and laws.\n",
      "5. **Education and Critical Thinking**: Promote a culture of lifelong learning, critical thinking, and media literacy to empower individuals to make informed decisions.\n",
      "6. **Economic Democracy**: Implement a mixed economy that balances social welfare, environmental sustainability, and individual entrepreneurship, ensuring a basic income guarantee and access to essential services.\n",
      "7. **Social Solidarity**: Foster a sense of community and mutual support, recognizing the interconnectedness of human well-being and the environment.\n",
      "8. **Accountability and Transparency**: Establish mechanisms for accountability, transparency, and oversight to prevent corruption and ensure that power is exercised responsibly.\n",
      "\n",
      "**Addressing Potential Conflicts:**\n",
      "\n",
      "1. **Equity vs. Individual Freedom**: Balance individual autonomy with social responsibility, ensuring that individual freedoms do not compromise the well-being of others or the environment. Implement policies that promote social cohesion and mutual support.\n",
      "2. **Sustainability vs. Economic Growth**: Prioritize sustainable development over short-term economic gains, investing in renewable energy, eco-friendly technologies, and sustainable agriculture. Encourage circular economies and zero-waste practices.\n",
      "3. **Equity vs. Sustainability**: Address environmental injustices and ensure that sustainability measures do not disproportionately affect marginalized communities. Implement policies that promote environmental justice and equitable access to resources.\n",
      "4. **Individual Freedom vs. Social Solidarity**: Foster a culture that values both individual autonomy and social responsibility, recognizing that individual freedoms are enhanced by strong social bonds and a sense of community.\n",
      "5. **Participatory Governance vs. Efficiency**: Balance the need for inclusive decision-making with the need for efficient governance, using technology and innovative participatory processes to facilitate citizen engagement and streamline decision-making.\n",
      "\n",
      "**Institutional Mechanisms:**\n",
      "\n",
      "1. **Citizen Assemblies**: Establish regular citizen assemblies to facilitate participatory governance and ensure that diverse perspectives are represented.\n",
      "2. **Environmental Courts**: Establish specialized courts to address environmental crimes and disputes, ensuring that environmental protection is prioritized.\n",
      "3. **Social and Environmental Impact Assessments**: Conduct regular assessments to evaluate the social and environmental impacts of policies and projects, ensuring that decisions are informed by evidence and consider long-term consequences.\n",
      "4. **Independent Media and Fact-Checking**: Support independent media outlets and fact-checking initiatives to promote critical thinking and media literacy.\n",
      "5. **Ombudsman and Accountability Mechanisms**: Establish independent ombudsman offices and accountability mechanisms to investigate complaints and ensure that power is exercised responsibly.\n",
      "\n",
      "**Implementation and Evaluation:**\n",
      "\n",
      "1. **Phased Implementation**: Implement the new societal system in phases, starting with pilot projects and gradually scaling up to ensure that the system is effective and adaptable.\n",
      "2. **Monitoring and Evaluation**: Establish a robust monitoring and evaluation framework to assess the system's performance, identify areas for improvement, and make data-driven decisions.\n",
      "3. **Continuous Learning and Adaptation**: Foster a culture of continuous learning and adaptation, recognizing that the societal system will need to evolve in response to new challenges and opportunities.\n",
      "\n",
      "By prioritizing these foundational principles and addressing potential conflicts, we can create a societal system that values equity, sustainability, and individual freedom, promoting a thriving and resilient world for all.\n"
     ]
    }
   ],
   "source": [
    "# It's nice to know how to use \"zip\"\n",
    "for competitor, answer in zip(competitors, answers):\n",
    "    print(f\"Competitor: {competitor}\\n\\n{answer}\")\n"
   ]
  },
  {
   "cell_type": "code",
   "execution_count": 17,
   "metadata": {},
   "outputs": [],
   "source": [
    "# Let's bring this together - note the use of \"enumerate\"\n",
    "\n",
    "together = \"\"\n",
    "for index, answer in enumerate(answers):\n",
    "    together += f\"# Response from competitor {index+1}\\n\\n\"\n",
    "    together += answer + \"\\n\\n\""
   ]
  },
  {
   "cell_type": "code",
   "execution_count": 18,
   "metadata": {},
   "outputs": [
    {
     "name": "stdout",
     "output_type": "stream",
     "text": [
      "# Response from competitor 1\n",
      "\n",
      "Designing a societal system that prioritizes equity, sustainability, and individual freedom requires careful consideration of foundational principles that can interlink these values while addressing potential conflicts. Here are some guiding principles and ways to navigate conflicts:\n",
      "\n",
      "### Foundational Principles\n",
      "\n",
      "1. **Equity and Justice**:\n",
      "   - Prioritize fair access to resources, opportunities, and rights for all individuals regardless of background. Implement systems that actively seek to dismantle historical inequities.\n",
      "   - Establish mechanisms for restorative justice that emphasize repairing harm and ensuring accountability, rather than punitive measures.\n",
      "\n",
      "2. **Sustainability**:\n",
      "   - Embed environmental stewardship as a core element in all decision-making processes. Promote renewable energy, circular economies, and sustainable practices across all sectors.\n",
      "   - Encourage local self-sufficiency and community resilience through support for local agriculture, industries, and systems that recognize the limits of planetary resources.\n",
      "\n",
      "3. **Individual Freedom and Autonomy**:\n",
      "   - Protect personal freedoms, privacy, and the right to self-determination. Foster an environment where individuals can pursue their own paths while respecting the freedoms of others.\n",
      "   - Ensure access to education and information to empower individuals to make informed choices and engage actively in society.\n",
      "\n",
      "4. **Participatory Governance**:\n",
      "   - Create democratic processes that allow for widespread participation in decision-making, ensuring that all voices, especially marginalized ones, are heard.\n",
      "   - Use technology and community forums to facilitate transparent governance that encourages dialogue and collective problem-solving.\n",
      "\n",
      "5. **Interdependence and Community**:\n",
      "   - Recognize that individuals thrive in interconnected communities, fostering a culture of cooperation, mutual aid, and support. Encourage local networks that enhance collective wellbeing.\n",
      "   - Promote cultural diversity and inclusivity as strengths that enhance social cohesion and creativity.\n",
      "\n",
      "### Addressing Potential Conflicts\n",
      "\n",
      "- **Balancing Individual Freedom and Collective Responsibility**:\n",
      "  - Foster a social contract where individuals understand that their freedoms come with responsibilities towards the community and environment. Implement educational programs emphasizing civic engagement and the impact of individual actions.\n",
      "  - Encourage voluntary participation in community initiatives that support sustainability and equity, ensuring that individuals have a voice in how these programs are implemented.\n",
      "\n",
      "- **Equity vs. Sustainability**:\n",
      "  - Address potential tensions by designing sustainability initiatives that are inclusive and equitable. For instance, funding for renewable energy projects should prioritize disadvantaged communities to prevent exacerbating existing inequalities.\n",
      "  - Utilize transitional approaches that recognize the need for both economic development and environmental sustainability, gradually shifting to greener practices while providing support for those most affected.\n",
      "\n",
      "- **Participatory Governance vs. Efficiency**:\n",
      "  - Create structures that balance the need for efficient governance with inclusive processes. Employ deliberative democracy techniques, such as citizen assemblies, to streamline decision-making while ensuring broad input.\n",
      "  - Use technology to enhance efficiency without sacrificing transparency and participation, enabling real-time feedback on policies and initiatives.\n",
      "\n",
      "- **Cultural Values vs. Universal Principles**:\n",
      "  - Embrace cultural pluralism while identifying universal human rights that serve as non-negotiable foundational principles for equity and dignity. Encourage dialogue that seeks common ground in values across diverse cultures.\n",
      "  - Create spaces for intercultural exchanges that enrich societal understanding and foster empathy, ultimately strengthening the ability to resolve conflicts amicably.\n",
      "\n",
      "### Conclusion\n",
      "\n",
      "Building a societal system rooted in equity, sustainability, and individual freedom requires a proactive approach to design principles while being mindful of potential conflicts. By fostering a culture of collaboration, dialogue, and mutual responsibility, such a system can flourish. Continuous reassessment and adaptability will also be vital to address evolving challenges and sustain the delicate balances among these foundational values.\n",
      "\n",
      "# Response from competitor 2\n",
      "\n",
      "Designing a new societal system from scratch that values equity, sustainability, and individual freedom requires a deep understanding of human needs, the environment, and the complexities of social dynamics. Here are the foundational principles I would prioritize, along with strategies for addressing potential conflicts:\n",
      "\n",
      "**Foundational Principles:**\n",
      "\n",
      "1. **Equity**: Ensure equal access to resources, opportunities, and services for all individuals, regardless of their background, identity, or ability.\n",
      "2. **Sustainability**: Prioritize environmental protection, conservation, and regeneration to maintain a healthy planet for future generations.\n",
      "3. **Individual Freedom**: Foster a culture that respects and protects individual autonomy, creativity, and self-expression.\n",
      "4. **Participatory Governance**: Establish a decentralized, inclusive, and transparent decision-making process that empowers citizens to contribute to the development of policies and laws.\n",
      "5. **Education and Critical Thinking**: Promote a culture of lifelong learning, critical thinking, and media literacy to empower individuals to make informed decisions.\n",
      "6. **Economic Democracy**: Implement a mixed economy that balances social welfare, environmental sustainability, and individual entrepreneurship, ensuring a basic income guarantee and access to essential services.\n",
      "7. **Social Solidarity**: Foster a sense of community and mutual support, recognizing the interconnectedness of human well-being and the environment.\n",
      "8. **Accountability and Transparency**: Establish mechanisms for accountability, transparency, and oversight to prevent corruption and ensure that power is exercised responsibly.\n",
      "\n",
      "**Addressing Potential Conflicts:**\n",
      "\n",
      "1. **Equity vs. Individual Freedom**: Balance individual autonomy with social responsibility, ensuring that individual freedoms do not compromise the well-being of others or the environment. Implement policies that promote social cohesion and mutual support.\n",
      "2. **Sustainability vs. Economic Growth**: Prioritize sustainable development over short-term economic gains, investing in renewable energy, eco-friendly technologies, and sustainable agriculture. Encourage circular economies and zero-waste practices.\n",
      "3. **Equity vs. Sustainability**: Address environmental injustices and ensure that sustainability measures do not disproportionately affect marginalized communities. Implement policies that promote environmental justice and equitable access to resources.\n",
      "4. **Individual Freedom vs. Social Solidarity**: Foster a culture that values both individual autonomy and social responsibility, recognizing that individual freedoms are enhanced by strong social bonds and a sense of community.\n",
      "5. **Participatory Governance vs. Efficiency**: Balance the need for inclusive decision-making with the need for efficient governance, using technology and innovative participatory processes to facilitate citizen engagement and streamline decision-making.\n",
      "\n",
      "**Institutional Mechanisms:**\n",
      "\n",
      "1. **Citizen Assemblies**: Establish regular citizen assemblies to facilitate participatory governance and ensure that diverse perspectives are represented.\n",
      "2. **Environmental Courts**: Establish specialized courts to address environmental crimes and disputes, ensuring that environmental protection is prioritized.\n",
      "3. **Social and Environmental Impact Assessments**: Conduct regular assessments to evaluate the social and environmental impacts of policies and projects, ensuring that decisions are informed by evidence and consider long-term consequences.\n",
      "4. **Independent Media and Fact-Checking**: Support independent media outlets and fact-checking initiatives to promote critical thinking and media literacy.\n",
      "5. **Ombudsman and Accountability Mechanisms**: Establish independent ombudsman offices and accountability mechanisms to investigate complaints and ensure that power is exercised responsibly.\n",
      "\n",
      "**Implementation and Evaluation:**\n",
      "\n",
      "1. **Phased Implementation**: Implement the new societal system in phases, starting with pilot projects and gradually scaling up to ensure that the system is effective and adaptable.\n",
      "2. **Monitoring and Evaluation**: Establish a robust monitoring and evaluation framework to assess the system's performance, identify areas for improvement, and make data-driven decisions.\n",
      "3. **Continuous Learning and Adaptation**: Foster a culture of continuous learning and adaptation, recognizing that the societal system will need to evolve in response to new challenges and opportunities.\n",
      "\n",
      "By prioritizing these foundational principles and addressing potential conflicts, we can create a societal system that values equity, sustainability, and individual freedom, promoting a thriving and resilient world for all.\n",
      "\n",
      "\n"
     ]
    }
   ],
   "source": [
    "print(together)"
   ]
  },
  {
   "cell_type": "code",
   "execution_count": 19,
   "metadata": {},
   "outputs": [],
   "source": [
    "judge = f\"\"\"You are judging a competition between {len(competitors)} competitors.\n",
    "Each model has been given this question:\n",
    "\n",
    "{question}\n",
    "\n",
    "Your job is to evaluate each response for clarity and strength of argument, and rank them in order of best to worst.\n",
    "Respond with JSON, and only JSON, with the following format:\n",
    "{{\"results\": [\"best competitor number\", \"second best competitor number\", \"third best competitor number\", ...]}}\n",
    "\n",
    "Here are the responses from each competitor:\n",
    "\n",
    "{together}\n",
    "\n",
    "Now respond with the JSON with the ranked order of the competitors, nothing else. Do not include markdown formatting or code blocks.\"\"\"\n"
   ]
  },
  {
   "cell_type": "code",
   "execution_count": 20,
   "metadata": {},
   "outputs": [
    {
     "name": "stdout",
     "output_type": "stream",
     "text": [
      "You are judging a competition between 2 competitors.\n",
      "Each model has been given this question:\n",
      "\n",
      "If you were tasked with designing a new societal system from scratch that values equity, sustainability, and individual freedom, what foundational principles would you prioritize, and how would you address potential conflicts between these principles?\n",
      "\n",
      "Your job is to evaluate each response for clarity and strength of argument, and rank them in order of best to worst.\n",
      "Respond with JSON, and only JSON, with the following format:\n",
      "{\"results\": [\"best competitor number\", \"second best competitor number\", \"third best competitor number\", ...]}\n",
      "\n",
      "Here are the responses from each competitor:\n",
      "\n",
      "# Response from competitor 1\n",
      "\n",
      "Designing a societal system that prioritizes equity, sustainability, and individual freedom requires careful consideration of foundational principles that can interlink these values while addressing potential conflicts. Here are some guiding principles and ways to navigate conflicts:\n",
      "\n",
      "### Foundational Principles\n",
      "\n",
      "1. **Equity and Justice**:\n",
      "   - Prioritize fair access to resources, opportunities, and rights for all individuals regardless of background. Implement systems that actively seek to dismantle historical inequities.\n",
      "   - Establish mechanisms for restorative justice that emphasize repairing harm and ensuring accountability, rather than punitive measures.\n",
      "\n",
      "2. **Sustainability**:\n",
      "   - Embed environmental stewardship as a core element in all decision-making processes. Promote renewable energy, circular economies, and sustainable practices across all sectors.\n",
      "   - Encourage local self-sufficiency and community resilience through support for local agriculture, industries, and systems that recognize the limits of planetary resources.\n",
      "\n",
      "3. **Individual Freedom and Autonomy**:\n",
      "   - Protect personal freedoms, privacy, and the right to self-determination. Foster an environment where individuals can pursue their own paths while respecting the freedoms of others.\n",
      "   - Ensure access to education and information to empower individuals to make informed choices and engage actively in society.\n",
      "\n",
      "4. **Participatory Governance**:\n",
      "   - Create democratic processes that allow for widespread participation in decision-making, ensuring that all voices, especially marginalized ones, are heard.\n",
      "   - Use technology and community forums to facilitate transparent governance that encourages dialogue and collective problem-solving.\n",
      "\n",
      "5. **Interdependence and Community**:\n",
      "   - Recognize that individuals thrive in interconnected communities, fostering a culture of cooperation, mutual aid, and support. Encourage local networks that enhance collective wellbeing.\n",
      "   - Promote cultural diversity and inclusivity as strengths that enhance social cohesion and creativity.\n",
      "\n",
      "### Addressing Potential Conflicts\n",
      "\n",
      "- **Balancing Individual Freedom and Collective Responsibility**:\n",
      "  - Foster a social contract where individuals understand that their freedoms come with responsibilities towards the community and environment. Implement educational programs emphasizing civic engagement and the impact of individual actions.\n",
      "  - Encourage voluntary participation in community initiatives that support sustainability and equity, ensuring that individuals have a voice in how these programs are implemented.\n",
      "\n",
      "- **Equity vs. Sustainability**:\n",
      "  - Address potential tensions by designing sustainability initiatives that are inclusive and equitable. For instance, funding for renewable energy projects should prioritize disadvantaged communities to prevent exacerbating existing inequalities.\n",
      "  - Utilize transitional approaches that recognize the need for both economic development and environmental sustainability, gradually shifting to greener practices while providing support for those most affected.\n",
      "\n",
      "- **Participatory Governance vs. Efficiency**:\n",
      "  - Create structures that balance the need for efficient governance with inclusive processes. Employ deliberative democracy techniques, such as citizen assemblies, to streamline decision-making while ensuring broad input.\n",
      "  - Use technology to enhance efficiency without sacrificing transparency and participation, enabling real-time feedback on policies and initiatives.\n",
      "\n",
      "- **Cultural Values vs. Universal Principles**:\n",
      "  - Embrace cultural pluralism while identifying universal human rights that serve as non-negotiable foundational principles for equity and dignity. Encourage dialogue that seeks common ground in values across diverse cultures.\n",
      "  - Create spaces for intercultural exchanges that enrich societal understanding and foster empathy, ultimately strengthening the ability to resolve conflicts amicably.\n",
      "\n",
      "### Conclusion\n",
      "\n",
      "Building a societal system rooted in equity, sustainability, and individual freedom requires a proactive approach to design principles while being mindful of potential conflicts. By fostering a culture of collaboration, dialogue, and mutual responsibility, such a system can flourish. Continuous reassessment and adaptability will also be vital to address evolving challenges and sustain the delicate balances among these foundational values.\n",
      "\n",
      "# Response from competitor 2\n",
      "\n",
      "Designing a new societal system from scratch that values equity, sustainability, and individual freedom requires a deep understanding of human needs, the environment, and the complexities of social dynamics. Here are the foundational principles I would prioritize, along with strategies for addressing potential conflicts:\n",
      "\n",
      "**Foundational Principles:**\n",
      "\n",
      "1. **Equity**: Ensure equal access to resources, opportunities, and services for all individuals, regardless of their background, identity, or ability.\n",
      "2. **Sustainability**: Prioritize environmental protection, conservation, and regeneration to maintain a healthy planet for future generations.\n",
      "3. **Individual Freedom**: Foster a culture that respects and protects individual autonomy, creativity, and self-expression.\n",
      "4. **Participatory Governance**: Establish a decentralized, inclusive, and transparent decision-making process that empowers citizens to contribute to the development of policies and laws.\n",
      "5. **Education and Critical Thinking**: Promote a culture of lifelong learning, critical thinking, and media literacy to empower individuals to make informed decisions.\n",
      "6. **Economic Democracy**: Implement a mixed economy that balances social welfare, environmental sustainability, and individual entrepreneurship, ensuring a basic income guarantee and access to essential services.\n",
      "7. **Social Solidarity**: Foster a sense of community and mutual support, recognizing the interconnectedness of human well-being and the environment.\n",
      "8. **Accountability and Transparency**: Establish mechanisms for accountability, transparency, and oversight to prevent corruption and ensure that power is exercised responsibly.\n",
      "\n",
      "**Addressing Potential Conflicts:**\n",
      "\n",
      "1. **Equity vs. Individual Freedom**: Balance individual autonomy with social responsibility, ensuring that individual freedoms do not compromise the well-being of others or the environment. Implement policies that promote social cohesion and mutual support.\n",
      "2. **Sustainability vs. Economic Growth**: Prioritize sustainable development over short-term economic gains, investing in renewable energy, eco-friendly technologies, and sustainable agriculture. Encourage circular economies and zero-waste practices.\n",
      "3. **Equity vs. Sustainability**: Address environmental injustices and ensure that sustainability measures do not disproportionately affect marginalized communities. Implement policies that promote environmental justice and equitable access to resources.\n",
      "4. **Individual Freedom vs. Social Solidarity**: Foster a culture that values both individual autonomy and social responsibility, recognizing that individual freedoms are enhanced by strong social bonds and a sense of community.\n",
      "5. **Participatory Governance vs. Efficiency**: Balance the need for inclusive decision-making with the need for efficient governance, using technology and innovative participatory processes to facilitate citizen engagement and streamline decision-making.\n",
      "\n",
      "**Institutional Mechanisms:**\n",
      "\n",
      "1. **Citizen Assemblies**: Establish regular citizen assemblies to facilitate participatory governance and ensure that diverse perspectives are represented.\n",
      "2. **Environmental Courts**: Establish specialized courts to address environmental crimes and disputes, ensuring that environmental protection is prioritized.\n",
      "3. **Social and Environmental Impact Assessments**: Conduct regular assessments to evaluate the social and environmental impacts of policies and projects, ensuring that decisions are informed by evidence and consider long-term consequences.\n",
      "4. **Independent Media and Fact-Checking**: Support independent media outlets and fact-checking initiatives to promote critical thinking and media literacy.\n",
      "5. **Ombudsman and Accountability Mechanisms**: Establish independent ombudsman offices and accountability mechanisms to investigate complaints and ensure that power is exercised responsibly.\n",
      "\n",
      "**Implementation and Evaluation:**\n",
      "\n",
      "1. **Phased Implementation**: Implement the new societal system in phases, starting with pilot projects and gradually scaling up to ensure that the system is effective and adaptable.\n",
      "2. **Monitoring and Evaluation**: Establish a robust monitoring and evaluation framework to assess the system's performance, identify areas for improvement, and make data-driven decisions.\n",
      "3. **Continuous Learning and Adaptation**: Foster a culture of continuous learning and adaptation, recognizing that the societal system will need to evolve in response to new challenges and opportunities.\n",
      "\n",
      "By prioritizing these foundational principles and addressing potential conflicts, we can create a societal system that values equity, sustainability, and individual freedom, promoting a thriving and resilient world for all.\n",
      "\n",
      "\n",
      "\n",
      "Now respond with the JSON with the ranked order of the competitors, nothing else. Do not include markdown formatting or code blocks.\n"
     ]
    }
   ],
   "source": [
    "print(judge)"
   ]
  },
  {
   "cell_type": "code",
   "execution_count": 21,
   "metadata": {},
   "outputs": [],
   "source": [
    "judge_messages = [{\"role\": \"user\", \"content\": judge}]"
   ]
  },
  {
   "cell_type": "code",
   "execution_count": 22,
   "metadata": {},
   "outputs": [
    {
     "name": "stdout",
     "output_type": "stream",
     "text": [
      "{\"results\": [\"1\", \"2\"]}\n"
     ]
    }
   ],
   "source": [
    "# Judgement time!\n",
    "\n",
    "openai = OpenAI()\n",
    "response = openai.chat.completions.create(\n",
    "    model=\"o3-mini\",\n",
    "    messages=judge_messages,\n",
    ")\n",
    "results = response.choices[0].message.content\n",
    "print(results)\n"
   ]
  },
  {
   "cell_type": "code",
   "execution_count": 23,
   "metadata": {},
   "outputs": [
    {
     "name": "stdout",
     "output_type": "stream",
     "text": [
      "Rank 1: gpt-4o-mini\n",
      "Rank 2: llama-3.3-70b-versatile\n"
     ]
    }
   ],
   "source": [
    "# OK let's turn this into results!\n",
    "\n",
    "results_dict = json.loads(results)\n",
    "ranks = results_dict[\"results\"]\n",
    "for index, result in enumerate(ranks):\n",
    "    competitor = competitors[int(result)-1]\n",
    "    print(f\"Rank {index+1}: {competitor}\")"
   ]
  }
 ],
 "metadata": {
  "kernelspec": {
   "display_name": "agents",
   "language": "python",
   "name": "python3"
  },
  "language_info": {
   "codemirror_mode": {
    "name": "ipython",
    "version": 3
   },
   "file_extension": ".py",
   "mimetype": "text/x-python",
   "name": "python",
   "nbconvert_exporter": "python",
   "pygments_lexer": "ipython3",
   "version": "3.12.11"
  }
 },
 "nbformat": 4,
 "nbformat_minor": 2
}
